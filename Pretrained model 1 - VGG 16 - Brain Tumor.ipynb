{
 "cells": [
  {
   "cell_type": "markdown",
   "metadata": {
    "id": "SadD-MnP0q4S"
   },
   "source": [
    "**Implementing pre-trained models**"
   ]
  },
  {
   "cell_type": "code",
   "execution_count": 7,
   "metadata": {
    "executionInfo": {
     "elapsed": 1081,
     "status": "ok",
     "timestamp": 1722430195190,
     "user": {
      "displayName": "Jadaprojects13",
      "userId": "02950392123233204224"
     },
     "user_tz": -330
    },
    "id": "xB4W0fiT0-tN"
   },
   "outputs": [],
   "source": [
    "# Import necessary libraries and rename them with specific aliases for ease of use\n",
    "\n",
    "from tensorflow.keras.applications import VGG16 as Brain_tumorVGG\n",
    "from tensorflow.keras.models import Model as Brain_tumorM"
   ]
  },
  {
   "cell_type": "code",
   "execution_count": 3,
   "metadata": {
    "executionInfo": {
     "elapsed": 15,
     "status": "ok",
     "timestamp": 1722430011068,
     "user": {
      "displayName": "Jadaprojects13",
      "userId": "02950392123233204224"
     },
     "user_tz": -330
    },
    "id": "OwkIBCFQVJg1"
   },
   "outputs": [],
   "source": [
    "# Importing the additional libraries for image processing, plotting, numerical operations, and warnings management\n",
    "import imageio as Brain_tumorIGo\n",
    "from matplotlib import pyplot as Brain_tumorOTp\n",
    "import numpy as Brain_tumorPyn\n",
    "import warnings as Brain_tumorWrn\n",
    "# Suppressing the warnings\n",
    "Brain_tumorWrn.filterwarnings(\"ignore\")"
   ]
  },
  {
   "cell_type": "code",
   "execution_count": 4,
   "metadata": {
    "executionInfo": {
     "elapsed": 13,
     "status": "ok",
     "timestamp": 1722430011069,
     "user": {
      "displayName": "Jadaprojects13",
      "userId": "02950392123233204224"
     },
     "user_tz": -330
    },
    "id": "h5bw0WOKVJj0"
   },
   "outputs": [],
   "source": [
    "# Define the root directory for the dataset\n",
    "Route_of_Image='/MRI DATA/'"
   ]
  },
  {
   "cell_type": "code",
   "execution_count": 5,
   "metadata": {
    "colab": {
     "base_uri": "https://localhost:8080/"
    },
    "executionInfo": {
     "elapsed": 4743,
     "status": "ok",
     "timestamp": 1722430120791,
     "user": {
      "displayName": "Jadaprojects13",
      "userId": "02950392123233204224"
     },
     "user_tz": -330
    },
    "id": "BodjHeuBVPtF",
    "outputId": "3feb5d1c-be65-45cd-ba55-6aef1202d1e4"
   },
   "outputs": [
    {
     "name": "stdout",
     "output_type": "stream",
     "text": [
      "Found 1311 files belonging to 4 classes.\n",
      "Using 1049 files for training.\n",
      "Found 1311 files belonging to 4 classes.\n",
      "Using 262 files for validation.\n"
     ]
    }
   ],
   "source": [
    "# Define parameters for dataset preparation\n",
    "Brain_Tumor_Fi_1='training'\n",
    "Brain_Tumor_Fi_2='validation'\n",
    "Brain_Tumor_Fi_se=2\n",
    "Brain_Tumor_Fi_size=(244,244)\n",
    "Brain_Tumor_Fi_div=0.2\n",
    "\n",
    "# Import the function to load images from a directory and renaming it with a specific alias\n",
    "from tensorflow.keras.utils import image_dataset_from_directory as Brain_tumorASD\n",
    "\n",
    "# Define the image size to match the model's input shape\n",
    "# Set the image size to match the input size of the VGG16 model\n",
    "Brain_Tumor_Fi_size = (224, 224)\n",
    "# Load training dataset from the specified directory\n",
    "Brain_tumor_TT = Brain_tumorASD(\n",
    "    Route_of_Image,\n",
    "    validation_split=Brain_Tumor_Fi_div,\n",
    "    subset=Brain_Tumor_Fi_1,\n",
    "    seed=Brain_Tumor_Fi_se,\n",
    "    image_size=Brain_Tumor_Fi_size,\n",
    "    batch_size=100\n",
    ")\n",
    "# Load validation dataset from the specified directory\n",
    "Brain_tumor_VV = Brain_tumorASD(\n",
    "    Route_of_Image,\n",
    "    validation_split=Brain_Tumor_Fi_div,\n",
    "    subset=Brain_Tumor_Fi_2,\n",
    "    seed=Brain_Tumor_Fi_se,\n",
    "    image_size=Brain_Tumor_Fi_size,\n",
    "    batch_size=100\n",
    ")"
   ]
  },
  {
   "cell_type": "code",
   "execution_count": 6,
   "metadata": {
    "executionInfo": {
     "elapsed": 6,
     "status": "ok",
     "timestamp": 1722430120792,
     "user": {
      "displayName": "Jadaprojects13",
      "userId": "02950392123233204224"
     },
     "user_tz": -330
    },
    "id": "LON_nuXxVPwP"
   },
   "outputs": [],
   "source": [
    "# Define model parameters such as activation functions, input shape, and loss function\n",
    "Brain_tumor_AA = 'tanh'\n",
    "Brain_tumor_SS = (224, 224, 3)\n",
    "Brain_tumor_S = 'softmax'\n",
    "Brain_tumor_LL = 'SparseCategoricalCrossentropy'\n",
    "\n",
    "# Import and initialize the Adam optimizer with a specific learning rate\n",
    "from keras.optimizers import Adam as Brain_tumor_OO\n",
    "Brain_tumor_OOV = Brain_tumor_OO(learning_rate=0.0001)\n",
    "# Import layers for constructing a custom model\n",
    "from tensorflow.keras.models import Sequential as Brain_tumorASD1\n",
    "from tensorflow.keras.layers import Conv2D as Brain_tumorASD2\n",
    "from tensorflow.keras.layers import MaxPooling2D as Brain_tumorASD3\n",
    "from tensorflow.keras.layers import Dense as Brain_tumorASD4\n",
    "from tensorflow.keras.layers import Flatten as Brain_tumorASD5\n",
    "from tensorflow.keras.layers import BatchNormalization as Brain_tumorASD6"
   ]
  },
  {
   "cell_type": "markdown",
   "metadata": {
    "id": "AEFexRhttu1l"
   },
   "source": [
    "## **Pretrained Model 1 - VGG 16**"
   ]
  },
  {
   "cell_type": "code",
   "execution_count": 8,
   "metadata": {
    "colab": {
     "base_uri": "https://localhost:8080/"
    },
    "executionInfo": {
     "elapsed": 1694,
     "status": "ok",
     "timestamp": 1722430287024,
     "user": {
      "displayName": "Jadaprojects13",
      "userId": "02950392123233204224"
     },
     "user_tz": -330
    },
    "id": "paoDNMtn1jv4",
    "outputId": "685843bc-bf84-4d64-acbb-88dd2eb40687"
   },
   "outputs": [
    {
     "name": "stdout",
     "output_type": "stream",
     "text": [
      "Downloading data from https://storage.googleapis.com/tensorflow/keras-applications/vgg16/vgg16_weights_tf_dim_ordering_tf_kernels_notop.h5\n",
      "58889256/58889256 [==============================] - 0s 0us/step\n"
     ]
    }
   ],
   "source": [
    "# Load the pretrained VGG16 model with the ImageNet weights preserved, excluding the top layer.\n",
    "Brain_tumor_pre_md = Brain_tumorVGG(weights='imagenet', include_top=False, input_shape=(224, 224, 3))"
   ]
  },
  {
   "cell_type": "code",
   "execution_count": 11,
   "metadata": {
    "colab": {
     "base_uri": "https://localhost:8080/",
     "height": 1000
    },
    "executionInfo": {
     "elapsed": 904179,
     "status": "ok",
     "timestamp": 1722444400324,
     "user": {
      "displayName": "Jadaprojects13",
      "userId": "02950392123233204224"
     },
     "user_tz": -330
    },
    "id": "ewjXoClh1w9G",
    "outputId": "0b60428e-ed82-4800-dda8-955c6e11da97"
   },
   "outputs": [
    {
     "name": "stdout",
     "output_type": "stream",
     "text": [
      "Epoch 1/5\n",
      "11/11 [==============================] - 2384s 206s/step - loss: 4.1447 - accuracy: 0.3460 - val_loss: 1.0992 - val_accuracy: 0.5954\n",
      "Epoch 2/5\n",
      "11/11 [==============================] - 2231s 203s/step - loss: 0.9880 - accuracy: 0.5853 - val_loss: 0.7859 - val_accuracy: 0.6756\n",
      "Epoch 3/5\n",
      "11/11 [==============================] - 2228s 203s/step - loss: 0.8255 - accuracy: 0.6397 - val_loss: 0.7455 - val_accuracy: 0.6870\n",
      "Epoch 4/5\n",
      "11/11 [==============================] - 2287s 208s/step - loss: 0.6589 - accuracy: 0.7436 - val_loss: 0.5701 - val_accuracy: 0.8053\n",
      "Epoch 5/5\n",
      "11/11 [==============================] - 2276s 207s/step - loss: 0.5125 - accuracy: 0.7960 - val_loss: 0.5340 - val_accuracy: 0.7863\n",
      "Model: \"model\"\n",
      "_________________________________________________________________\n",
      " Layer (type)                Output Shape              Param #   \n",
      "=================================================================\n",
      " input_1 (InputLayer)        [(None, 224, 224, 3)]     0         \n",
      "                                                                 \n",
      " block1_conv1 (Conv2D)       (None, 224, 224, 64)      1792      \n",
      "                                                                 \n",
      " block1_conv2 (Conv2D)       (None, 224, 224, 64)      36928     \n",
      "                                                                 \n",
      " block1_pool (MaxPooling2D)  (None, 112, 112, 64)      0         \n",
      "                                                                 \n",
      " block2_conv1 (Conv2D)       (None, 112, 112, 128)     73856     \n",
      "                                                                 \n",
      " block2_conv2 (Conv2D)       (None, 112, 112, 128)     147584    \n",
      "                                                                 \n",
      " block2_pool (MaxPooling2D)  (None, 56, 56, 128)       0         \n",
      "                                                                 \n",
      " block3_conv1 (Conv2D)       (None, 56, 56, 256)       295168    \n",
      "                                                                 \n",
      " block3_conv2 (Conv2D)       (None, 56, 56, 256)       590080    \n",
      "                                                                 \n",
      " block3_conv3 (Conv2D)       (None, 56, 56, 256)       590080    \n",
      "                                                                 \n",
      " block3_pool (MaxPooling2D)  (None, 28, 28, 256)       0         \n",
      "                                                                 \n",
      " block4_conv1 (Conv2D)       (None, 28, 28, 512)       1180160   \n",
      "                                                                 \n",
      " block4_conv2 (Conv2D)       (None, 28, 28, 512)       2359808   \n",
      "                                                                 \n",
      " block4_conv3 (Conv2D)       (None, 28, 28, 512)       2359808   \n",
      "                                                                 \n",
      " block4_pool (MaxPooling2D)  (None, 14, 14, 512)       0         \n",
      "                                                                 \n",
      " block5_conv1 (Conv2D)       (None, 14, 14, 512)       2359808   \n",
      "                                                                 \n",
      " block5_conv2 (Conv2D)       (None, 14, 14, 512)       2359808   \n",
      "                                                                 \n",
      " block5_conv3 (Conv2D)       (None, 14, 14, 512)       2359808   \n",
      "                                                                 \n",
      " block5_pool (MaxPooling2D)  (None, 7, 7, 512)         0         \n",
      "                                                                 \n",
      " flatten_1 (Flatten)         (None, 25088)             0         \n",
      "                                                                 \n",
      " dense (Dense)               (None, 1024)              25691136  \n",
      "                                                                 \n",
      " dense_1 (Dense)             (None, 4)                 4100      \n",
      "                                                                 \n",
      "=================================================================\n",
      "Total params: 40409924 (154.15 MB)\n",
      "Trainable params: 40409924 (154.15 MB)\n",
      "Non-trainable params: 0 (0.00 Byte)\n",
      "_________________________________________________________________\n",
      "None\n"
     ]
    },
    {
     "data": {
      "text/plain": [
       "<Figure size 640x480 with 0 Axes>"
      ]
     },
     "execution_count": 11,
     "metadata": {},
     "output_type": "execute_result"
    },
    {
     "data": {
      "image/png": "[encoded data removed]",
      "text/plain": [
       "<Figure size 640x480 with 1 Axes>"
      ]
     },
     "metadata": {},
     "output_type": "display_data"
    },
    {
     "data": {
      "text/plain": [
       "<Figure size 640x480 with 0 Axes>"
      ]
     },
     "metadata": {},
     "output_type": "display_data"
    }
   ],
   "source": [
    "# Download the pre-trained weights for VGG16\n",
    "\n",
    "# Add custom layers on top of the pre-trained model to adapt it for the specific classification taskx_Brain_tumor = Brain_tumor_pre_md.output\n",
    "x_Brain_tumor = Brain_tumorASD5()(x_Brain_tumor)\n",
    "x_Brain_tumor = Brain_tumorASD4(1024, activation='relu')(x_Brain_tumor)\n",
    "pre_Brain_tumor = Brain_tumorASD4(4, activation='softmax')(x_Brain_tumor)\n",
    "\n",
    "# Creating the final model\n",
    "melanoma_FPq = Brain_tumorM(inputs=Brain_tumor_pre_md.input, outputs=pre_Brain_tumor)\n",
    "\n",
    "# Compiling the model with the specified optimizer, loss function, and metric\n",
    "melanoma_FPq.compile(optimizer= Brain_tumor_OOV, loss= Brain_tumor_LL, metrics=['accuracy'])\n",
    "\n",
    "# Training the model on the training dataset and validate it on the validation dataset\n",
    "Brain_tumor_Hs =melanoma_FPq.fit(Brain_tumor_TT, validation_data= Brain_tumor_VV, epochs=5, batch_size=5000)\n",
    "\n",
    "# Printing the summary of the model architecture\n",
    "print(melanoma_FPq.summary())\n",
    "\n",
    "# Ploting training and validation accuracy over epochs\n",
    "Brain_tumor_EE = range(len(Brain_tumor_Hs.history['accuracy']))\n",
    "Brain_tumorOTp.plot(Brain_tumor_EE, Brain_tumor_Hs.history['accuracy'], 'purple', label='Acc- Training set')\n",
    "Brain_tumorOTp.plot(Brain_tumor_EE, Brain_tumor_Hs.history['val_accuracy'], 'green', label='Acc- of Validation set')\n",
    "Brain_tumorOTp.xlabel('Sum of Epochs')\n",
    "Brain_tumorOTp.ylabel('Achieved Acc')\n",
    "Brain_tumorOTp.title('Training and Validation Accuracy')\n",
    "Brain_tumorOTp.legend(loc=0)\n",
    "Brain_tumorOTp.figure()"
   ]
  }
 ],
 "metadata": {
  "colab": {
   "authorship_tag": "ABX9TyM0I7zovQ3MrXaqdkTPq0uW",
   "provenance": []
  },
  "kernelspec": {
   "display_name": "Python 3 (ipykernel)",
   "language": "python",
   "name": "python3"
  },
  "language_info": {
   "codemirror_mode": {
    "name": "ipython",
    "version": 3
   },
   "file_extension": ".py",
   "mimetype": "text/x-python",
   "name": "python",
   "nbconvert_exporter": "python",
   "pygments_lexer": "ipython3",
   "version": "3.9.12"
  }
 },
 "nbformat": 4,
 "nbformat_minor": 1
}
